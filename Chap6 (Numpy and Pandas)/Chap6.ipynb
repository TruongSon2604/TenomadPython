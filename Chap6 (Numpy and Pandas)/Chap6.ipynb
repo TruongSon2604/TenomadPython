{
 "cells": [
  {
   "cell_type": "markdown",
   "metadata": {},
   "source": [
    "**NumPy (Numerical Python) là thư viện mạnh mẽ để làm việc với mảng số học (arrays) và tính toán khoa học. Nó nhanh hơn và tiện lợi hơn so với list thông thường khi xử lý dữ liệu số lượng lớn.**\n"
   ]
  },
  {
   "cell_type": "code",
   "execution_count": null,
   "metadata": {},
   "outputs": [
    {
     "name": "stdout",
     "output_type": "stream",
     "text": [
      "[[0.23374121 0.44246083 0.34764047]\n",
      " [0.81590662 0.05940903 0.29530004]]\n",
      "10\n",
      "2.5\n",
      "[[1 3]\n",
      " [2 4]]\n"
     ]
    }
   ],
   "source": [
    "import numpy as np\n",
    "\n",
    "a = np.array([1, 2, 3])\n",
    "b = np.array([[1, 2], [3, 4]])\n",
    "\n",
    "z = np.zeros((2, 3))    \n",
    "o = np.ones((2, 3)) \n",
    "r = np.random.rand(2, 3) #Cần số thực ngẫu nhiên [0.0, 1.0)\n",
    "e = np.arange(0, 10, 3) # tao mảng từ 0 đến 10 với bước nhảy là 3\n",
    "l = np.linspace(0, 1, 5) # tao mảng từ 0 đến 1 với 5 phần tử đều nhau\n",
    "\n",
    "sum_all = np.sum(b)\n",
    "mean = np.mean(b)\n",
    "transposed = b.T\n",
    "\n",
    "print(r)\n",
    "print(sum_all)\n",
    "print(mean)\n",
    "print(transposed)\n"
   ]
  },
  {
   "cell_type": "code",
   "execution_count": null,
   "metadata": {},
   "outputs": [
    {
     "name": "stdout",
     "output_type": "stream",
     "text": [
      "Giá trị duy nhất: [ 0  1  2  4  8  9 10 12 14 15 16 17 18]\n",
      "Số lần xuất hiện: [2 1 2 1 1 3 3 1 2 3 4 3 4]\n",
      "Mảng: [18  0 18  9 16 17 14 10  9 16  0  2 17 15  1 14  9 10 16  8 10 15 18  2\n",
      " 16 17  4 15 18 12]\n",
      "Giá trị xuất hiện nhiều nhất (mode): 16\n"
     ]
    }
   ],
   "source": [
    "arr = np.random.randint(0, 20, 30)\n",
    "values, counts = np.unique(arr, return_counts=True) \n",
    "mode_val = values[np.argmax(counts)]\n",
    "print(\"Giá trị duy nhất:\", values)\n",
    "print(\"Số lần xuất hiện:\", counts)\n",
    "print(\"Mảng:\", arr)\n",
    "print(\"Giá trị xuất hiện nhiều nhất (mode):\", mode_val)"
   ]
  },
  {
   "attachments": {
    "image-2.png": {
     "image/png": "[encoded data removed]"
    },
    "image.png": {
     "image/png": "[encoded data removed]"
    }
   },
   "cell_type": "markdown",
   "metadata": {},
   "source": [
    "Công thức tính độ lệch chuẩn   ![image.png](attachment:image.png)  \n",
    "Công thức tính z-score  ![image-2.png](attachment:image-2.png)  \n",
    "\n",
    "**Z-score có các mục đích chính:**\n",
    "* Đánh giá sự lệch chuẩn so với trung bình.\n",
    "* So sánh các giá trị từ các tập dữ liệu khác nhau.\n",
    "* Phát hiện ngoại lệ trong dữ liệu.\n",
    "* Chuẩn hóa dữ liệu trong học máy.\n"
   ]
  },
  {
   "cell_type": "code",
   "execution_count": 24,
   "metadata": {},
   "outputs": [
    {
     "name": "stdout",
     "output_type": "stream",
     "text": [
      "Mảng gốc: [92 94 84 72 75 55 75 96 74 97]\n",
      "Z-score: [ 0.82361312  0.97901182  0.20201831 -0.7303739  -0.49727584 -2.05126286\n",
      " -0.49727584  1.13441052 -0.57497519  1.21210987]\n"
     ]
    }
   ],
   "source": [
    "arr = np.random.randint(50, 100, 10)\n",
    "mean = np.mean(arr)\n",
    "std = np.std(arr)\n",
    "z_scores = (arr - mean) / std\n",
    "\n",
    "print(\"Mảng gốc:\", arr)\n",
    "print(\"Z-score:\", z_scores)"
   ]
  },
  {
   "cell_type": "markdown",
   "metadata": {},
   "source": [
    "Pandas là một thư viện mạnh mẽ và phổ biến trong Python, được sử dụng để xử lý và phân tích dữ liệu. Thư viện này cung cấp các cấu trúc dữ liệu dễ sử dụng và hiệu quả như DataFrame và Series. Pandas chủ yếu được sử dụng cho việc thao tác dữ liệu, đặc biệt trong việc xử lý dữ liệu dạng bảng (như dữ liệu trong Excel, CSV, SQL, v.v.)."
   ]
  },
  {
   "cell_type": "code",
   "execution_count": 53,
   "metadata": {},
   "outputs": [
    {
     "data": {
      "text/html": [
       "<div>\n",
       "<style scoped>\n",
       "    .dataframe tbody tr th:only-of-type {\n",
       "        vertical-align: middle;\n",
       "    }\n",
       "\n",
       "    .dataframe tbody tr th {\n",
       "        vertical-align: top;\n",
       "    }\n",
       "\n",
       "    .dataframe thead th {\n",
       "        text-align: right;\n",
       "    }\n",
       "</style>\n",
       "<table border=\"1\" class=\"dataframe\">\n",
       "  <thead>\n",
       "    <tr style=\"text-align: right;\">\n",
       "      <th></th>\n",
       "      <th>Name</th>\n",
       "      <th>Age</th>\n",
       "      <th>City</th>\n",
       "    </tr>\n",
       "  </thead>\n",
       "  <tbody>\n",
       "    <tr>\n",
       "      <th>0</th>\n",
       "      <td>Son</td>\n",
       "      <td>20</td>\n",
       "      <td>VN</td>\n",
       "    </tr>\n",
       "    <tr>\n",
       "      <th>1</th>\n",
       "      <td>Tu</td>\n",
       "      <td>21</td>\n",
       "      <td>Malay</td>\n",
       "    </tr>\n",
       "    <tr>\n",
       "      <th>2</th>\n",
       "      <td>Tung</td>\n",
       "      <td>19</td>\n",
       "      <td>Sing</td>\n",
       "    </tr>\n",
       "  </tbody>\n",
       "</table>\n",
       "</div>"
      ],
      "text/plain": [
       "   Name  Age   City\n",
       "0   Son   20     VN\n",
       "1    Tu   21  Malay\n",
       "2  Tung   19   Sing"
      ]
     },
     "execution_count": 53,
     "metadata": {},
     "output_type": "execute_result"
    }
   ],
   "source": [
    "import pandas as pd\n",
    "s = pd.Series([1, 2, 3, 4])\n",
    "# print(s)\n",
    "\n",
    "data = {'Name': ['Son', 'Tu', 'Tung'],\n",
    "        'Age': [20, 21, 19],\n",
    "        'City': ['VN', 'Malay', 'Sing']}\n",
    "df = pd.DataFrame(data)\n",
    "df.head()\n"
   ]
  },
  {
   "cell_type": "code",
   "execution_count": 58,
   "metadata": {},
   "outputs": [
    {
     "name": "stdout",
     "output_type": "stream",
     "text": [
      "\n",
      "DataFrame sau khi sắp xếp:\n"
     ]
    },
    {
     "data": {
      "text/html": [
       "<div>\n",
       "<style scoped>\n",
       "    .dataframe tbody tr th:only-of-type {\n",
       "        vertical-align: middle;\n",
       "    }\n",
       "\n",
       "    .dataframe tbody tr th {\n",
       "        vertical-align: top;\n",
       "    }\n",
       "\n",
       "    .dataframe thead th {\n",
       "        text-align: right;\n",
       "    }\n",
       "</style>\n",
       "<table border=\"1\" class=\"dataframe\">\n",
       "  <thead>\n",
       "    <tr style=\"text-align: right;\">\n",
       "      <th></th>\n",
       "      <th>Tên</th>\n",
       "      <th>Tuổi</th>\n",
       "      <th>Điểm Trung Bình</th>\n",
       "      <th>Thành Phố</th>\n",
       "      <th>Học bổng</th>\n",
       "    </tr>\n",
       "  </thead>\n",
       "  <tbody>\n",
       "    <tr>\n",
       "      <th>2</th>\n",
       "      <td>Lai</td>\n",
       "      <td>22</td>\n",
       "      <td>9.0</td>\n",
       "      <td>Đà Nẵng</td>\n",
       "      <td>5000</td>\n",
       "    </tr>\n",
       "    <tr>\n",
       "      <th>0</th>\n",
       "      <td>Nam</td>\n",
       "      <td>20</td>\n",
       "      <td>8.5</td>\n",
       "      <td>Hà Nội</td>\n",
       "      <td>5000</td>\n",
       "    </tr>\n",
       "    <tr>\n",
       "      <th>4</th>\n",
       "      <td>Hoa</td>\n",
       "      <td>24</td>\n",
       "      <td>8.0</td>\n",
       "      <td>Cần Thơ</td>\n",
       "      <td>5000</td>\n",
       "    </tr>\n",
       "    <tr>\n",
       "      <th>1</th>\n",
       "      <td>An</td>\n",
       "      <td>21</td>\n",
       "      <td>7.2</td>\n",
       "      <td>Hồ Chí Minh</td>\n",
       "      <td>5000</td>\n",
       "    </tr>\n",
       "    <tr>\n",
       "      <th>3</th>\n",
       "      <td>Van</td>\n",
       "      <td>23</td>\n",
       "      <td>6.8</td>\n",
       "      <td>Hải Phòng</td>\n",
       "      <td>5000</td>\n",
       "    </tr>\n",
       "  </tbody>\n",
       "</table>\n",
       "</div>"
      ],
      "text/plain": [
       "   Tên  Tuổi  Điểm Trung Bình    Thành Phố  Học bổng\n",
       "2  Lai    22              9.0      Đà Nẵng      5000\n",
       "0  Nam    20              8.5       Hà Nội      5000\n",
       "4  Hoa    24              8.0      Cần Thơ      5000\n",
       "1   An    21              7.2  Hồ Chí Minh      5000\n",
       "3  Van    23              6.8    Hải Phòng      5000"
      ]
     },
     "execution_count": 58,
     "metadata": {},
     "output_type": "execute_result"
    }
   ],
   "source": [
    "import pandas as pd\n",
    "\n",
    "data = {\n",
    "    'Tên': ['Nam', 'An', 'Lai', 'Van', 'Hoa'],\n",
    "    'Tuổi': [20, 21, 22, 23, 24],\n",
    "    'Điểm Trung Bình': [8.5, 7.2, 9.0, 6.8, 8.0],\n",
    "    'Thành Phố': ['Hà Nội', 'Hồ Chí Minh', 'Đà Nẵng', 'Hải Phòng', 'Cần Thơ']\n",
    "}\n",
    "\n",
    "df = pd.DataFrame(data)\n",
    "\n",
    "df['Học bổng'] = 5000\n",
    "\n",
    "df_sorted = df.sort_values(by='Điểm Trung Bình', ascending=False)\n",
    "\n",
    "print(\"\\nDataFrame sau khi sắp xếp:\")\n",
    "df_sorted.head(5)\n"
   ]
  },
  {
   "cell_type": "code",
   "execution_count": 66,
   "metadata": {},
   "outputs": [
    {
     "name": "stdout",
     "output_type": "stream",
     "text": [
      "       Tháng  Số Sản Phẩm Bán\n",
      "8    Tháng 9              350\n",
      "9   Tháng 10              380\n",
      "10  Tháng 11              400\n",
      "11  Tháng 12              450\n",
      "Tổng số sản phẩm bán ra trong năm: 3160\n",
      "Độ lệch chuẩn của số lượng sản phẩm bán ra trong mỗi tháng: 109.98622503281807\n"
     ]
    }
   ],
   "source": [
    "import pandas as pd\n",
    "\n",
    "data_sales = {\n",
    "    'Tháng': ['Tháng 1', 'Tháng 2', 'Tháng 3', 'Tháng 4', 'Tháng 5', 'Tháng 6', 'Tháng 7', 'Tháng 8', 'Tháng 9', 'Tháng 10', 'Tháng 11', 'Tháng 12'],\n",
    "    'Số Sản Phẩm Bán': [120, 150, 180, 160, 200, 220, 250, 300, 350, 380, 400, 450]\n",
    "}\n",
    "df_sales = pd.DataFrame(data_sales)\n",
    "\n",
    "total_sales = df_sales['Số Sản Phẩm Bán'].sum()\n",
    "std_sales = df_sales['Số Sản Phẩm Bán'].std()\n",
    "df_filtered = df_sales[df_sales['Số Sản Phẩm Bán'] > 300]\n",
    "print(df_filtered[['Tháng', 'Số Sản Phẩm Bán']].head(5))\n",
    "print(\"Tổng số sản phẩm bán ra trong năm:\", total_sales)\n",
    "print(\"Độ lệch chuẩn của số lượng sản phẩm bán ra trong mỗi tháng:\", std_sales)\n"
   ]
  }
 ],
 "metadata": {
  "kernelspec": {
   "display_name": "Python 3",
   "language": "python",
   "name": "python3"
  },
  "language_info": {
   "codemirror_mode": {
    "name": "ipython",
    "version": 3
   },
   "file_extension": ".py",
   "mimetype": "text/x-python",
   "name": "python",
   "nbconvert_exporter": "python",
   "pygments_lexer": "ipython3",
   "version": "3.11.8"
  }
 },
 "nbformat": 4,
 "nbformat_minor": 2
}
