{
 "cells": [
  {
   "cell_type": "markdown",
   "id": "a46cc365",
   "metadata": {},
   "source": [
    "**Lập trình bất đồng bộ giúp chương trình thực thi các tác vụ mà không cần phải chờ đợi kết quả của các tác vụ trước. Điều này giúp tiết kiệm thời gian và tài nguyên, đặc biệt trong các ứng dụng web, nơi phải xử lý nhiều yêu cầu đồng thời.**\n",
    "\n",
    "Các khái niệm chính:\n",
    "* Async / Await: Cách thức trong Python để viết mã bất đồng bộ.\n",
    "\n",
    "* Event Loop: Một vòng lặp giúp xử lý các tác vụ bất đồng bộ mà không chặn các thao tác khác.\n",
    "\n",
    "* Coroutine: Một hàm bất đồng bộ mà có thể tạm dừng và tiếp tục sau."
   ]
  },
  {
   "cell_type": "code",
   "execution_count": null,
   "id": "5883d76b",
   "metadata": {},
   "outputs": [
    {
     "name": "stdout",
     "output_type": "stream",
     "text": [
      "Task 1: Bắt đầu...\n",
      "Task 1: Xong.\n",
      "Task 2: Nhận kết quả 'Kết quả từ task 1', bắt đầu...\n",
      "Task 2: Xong.\n",
      "Final result: Kết quả từ task 2\n"
     ]
    }
   ],
   "source": [
    "import asyncio\n",
    "\n",
    "async def task_1():\n",
    "    print(\"Task 1: Bắt đầu...\")\n",
    "    await asyncio.sleep(1)\n",
    "    print(\"Task 1: Xong.\")\n",
    "    return \"Kết quả từ task 1\"\n",
    "\n",
    "async def task_2(result_from_task_1):\n",
    "    print(f\"Task 2: Nhận kết quả '{result_from_task_1}', bắt đầu...\")\n",
    "    await asyncio.sleep(2)\n",
    "    print(\"Task 2: Xong.\")\n",
    "    return \"Kết quả từ task 2\"\n",
    "\n",
    "async def main():\n",
    "    result_1 = await task_1()\n",
    "    result_2 = await task_2(result_1)\n",
    "    print(f\"Final result: {result_2}\")\n",
    "\n",
    "await main()\n"
   ]
  },
  {
   "cell_type": "code",
   "execution_count": 4,
   "id": "5f25ad96",
   "metadata": {},
   "outputs": [
    {
     "name": "stdout",
     "output_type": "stream",
     "text": [
      "Task 1 bắt đầu...\n",
      "Task 2 bắt đầu...\n",
      "Task 3 bắt đầu...\n",
      "Task 3 hoanf thành sau 1s.\n",
      "Task 1 hoanf thành sau 2s.\n",
      "Task 2 hoanf thành sau 3s.\n"
     ]
    }
   ],
   "source": [
    "import asyncio \n",
    "\n",
    "async def delayed_task(name, delay):\n",
    "    print(f\"{name} bắt đầu...\")\n",
    "    await asyncio.sleep(delay)\n",
    "    print(f\"{name} hoanf thành sau {delay}s.\")\n",
    "\n",
    "async def main():\n",
    "    await asyncio.gather(\n",
    "        delayed_task(\"Task 1\", 2),\n",
    "        delayed_task(\"Task 2\", 3),\n",
    "        delayed_task(\"Task 3\", 1)\n",
    "    )\n",
    "    \n",
    "await main()"
   ]
  },
  {
   "cell_type": "markdown",
   "id": "71a8883c",
   "metadata": {},
   "source": [
    "FastAPI là một web framework hiện đại, nhanh (high-performance) dùng để xây dựng API với Python\n",
    "\n",
    "Kiến trúc: ASGI (Asynchronous Server Gateway Interface)\n",
    "\n",
    "Hiệu năng: Tương đương với NodeJS và Go nhờ khả năng xử lý bất đồng bộ (async/await)\n",
    "\n",
    "Tính năng nổi bật:\n",
    "\n",
    "Tự động sinh tài liệu API (Swagger UI, Redoc)\n",
    "\n",
    "Hỗ trợ xác thực (Authentication) và phân quyền (Authorization)\n",
    "\n",
    "Kiểm tra dữ liệu đầu vào (Validation) tự động với Pydantic\n",
    "\n",
    "Code ngắn gọn, rõ ràng nhờ tận dụng type hint của Python\n",
    "\n"
   ]
  },
  {
   "cell_type": "code",
   "execution_count": null,
   "id": "d0a2a4bc",
   "metadata": {},
   "outputs": [],
   "source": [
    "from fastapi import FastAPI\n",
    "\n",
    "app = FastAPI()\n",
    "\n",
    "@app.get(\"/\")\n",
    "def read_root():\n",
    "    return {\"message\": \"Xin chao, tenomad\"}\n",
    "\n",
    "@app.get(\"/hello/{name}\")\n",
    "def say_hello(name: str):\n",
    "    return {\"message\": f\"Hello, {name}!\"}"
   ]
  },
  {
   "cell_type": "code",
   "execution_count": null,
   "id": "e50c5906",
   "metadata": {},
   "outputs": [],
   "source": [
    "from fastapi import FastAPI\n",
    "from pydantic import BaseModel\n",
    "\n",
    "app = FastAPI()\n",
    "\n",
    "class User(BaseModel):\n",
    "    name: str\n",
    "    age: int\n",
    "\n",
    "@app.post(\"/users/\")\n",
    "def create_user(user: User):\n",
    "    return {\"message\": f\"Xin chao {user.name}, {user.age} tuoi\"}"
   ]
  }
 ],
 "metadata": {
  "kernelspec": {
   "display_name": "Python 3",
   "language": "python",
   "name": "python3"
  },
  "language_info": {
   "codemirror_mode": {
    "name": "ipython",
    "version": 3
   },
   "file_extension": ".py",
   "mimetype": "text/x-python",
   "name": "python",
   "nbconvert_exporter": "python",
   "pygments_lexer": "ipython3",
   "version": "3.11.8"
  }
 },
 "nbformat": 4,
 "nbformat_minor": 5
}
