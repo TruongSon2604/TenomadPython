{
 "cells": [
  {
   "cell_type": "markdown",
   "id": "103fd855",
   "metadata": {},
   "source": [
    "**CẤU TRÚC CỦA MỘT API (Application Programming Interface)**"
   ]
  },
  {
   "cell_type": "markdown",
   "id": "ae5adac9",
   "metadata": {},
   "source": [
    "Một API (đặc biệt là REST API) thường bao gồm:\n",
    "\n",
    "* Endpoint (URL): Địa chỉ mà client sử dụng để gửi request đến (VD: /products, /users/1, /orders?date=2025-01-01).\n",
    "\n",
    "HTTP Methods:\n",
    "\n",
    "* GET: Lấy dữ liệu\n",
    "\n",
    "* POST: Gửi dữ liệu (tạo mới)\n",
    "\n",
    "* PUT: Cập nhật toàn bộ dữ liệu\n",
    "\n",
    "* PATCH: Cập nhật một phần dữ liệu\n",
    "\n",
    "* DELETE: Xóa dữ liệu\n",
    "\n",
    "Headers:\n",
    "\n",
    "* Chứa metadata như Content-Type, Authorization, Accept, v.v.\n",
    "\n",
    "* Body (Request Payload):\n",
    "\n",
    "* Dữ liệu được gửi trong POST, PUT, PATCH requests (thường ở dạng JSON)\n",
    "\n",
    "HTTP Status Codes:\n",
    "\n",
    "* 200 OK: Thành công\n",
    "\n",
    "* 201 Created: Tạo mới thành công\n",
    "\n",
    "* 204 No Content: Xóa thành công, không có dữ liệu trả về\n",
    "\n",
    "* 400 Bad Request: Lỗi từ phía client (thiếu/ sai định dạng)\n",
    "\n",
    "* 401 Unauthorized: Chưa xác thực\n",
    "\n",
    "* 403 Forbidden: Không có quyền\n",
    "\n",
    "* 404 Not Found: Không tìm thấy tài nguyên\n",
    "\n",
    "* 500 Internal Server Error: Lỗi phía server"
   ]
  },
  {
   "cell_type": "markdown",
   "id": "6cf6f2c8",
   "metadata": {},
   "source": [
    "**Route Parameter**"
   ]
  },
  {
   "cell_type": "code",
   "execution_count": null,
   "id": "de7f95e0",
   "metadata": {},
   "outputs": [],
   "source": [
    "\n",
    "from fastapi import FastAPI\n",
    "from typing import Union\n",
    "\n",
    "app = FastAPI()\n",
    "\n",
    "@app.get(\"/\")\n",
    "def read_root():\n",
    "    return {\"Hello\": \"World\"}\n",
    "\n",
    "@app.get(\"/items/{item_id}\")\n",
    "def read_item(item_id: int, q: Union[str, None] = None):\n",
    "    return {\"item_id\": item_id, \"q\": q}\n",
    "\n",
    "@app.get(\"/orders/{order_id}\")\n",
    "def get_order(order_id: int, include_detail: bool = False):\n",
    "    if include_detail:\n",
    "        return {\"order_id\": order_id, \"items\": [\"milk\", \"bread\"]}\n",
    "    return {\"order_id\": order_id}\n",
    "\n"
   ]
  },
  {
   "cell_type": "code",
   "execution_count": 4,
   "id": "d9aa73b8",
   "metadata": {},
   "outputs": [],
   "source": [
    "# Route POST,PUT,DELETE có request body với Pydantic\n",
    "from pydantic import BaseModel\n",
    "\n",
    "class Product(BaseModel):\n",
    "    name: str\n",
    "    price: float\n",
    "    description: str = None\n",
    "\n",
    "@app.post(\"/products\", status_code=201)\n",
    "def create_product(product: Product):\n",
    "    return {\"message\": \"Product created\", \"data\": product}\n",
    "\n",
    "@app.put(\"/products/{product_id}\")\n",
    "def update_product(product_id: int, product: Product):\n",
    "    return {\n",
    "        \"message\": f\"Product {product_id} updated\",\n",
    "        \"new_data\": product\n",
    "    }\n",
    "\n",
    "from fastapi.responses import Response\n",
    "\n",
    "@app.delete(\"/products/{product_id}\", status_code=204)\n",
    "def delete_product(product_id: int):\n",
    "    # logic delete here\n",
    "    return Response(status_code=204)\n",
    "\n"
   ]
  },
  {
   "cell_type": "markdown",
   "id": "4a968a77",
   "metadata": {},
   "source": [
    "**QUERY PARAMETERS**"
   ]
  },
  {
   "cell_type": "code",
   "execution_count": null,
   "id": "52fc2e6f",
   "metadata": {},
   "outputs": [
    {
     "ename": "",
     "evalue": "",
     "output_type": "error",
     "traceback": [
      "\u001b[1;31mThe Kernel crashed while executing code in the current cell or a previous cell. \n",
      "\u001b[1;31mPlease review the code in the cell(s) to identify a possible cause of the failure. \n",
      "\u001b[1;31mClick <a href='https://aka.ms/vscodeJupyterKernelCrash'>here</a> for more info. \n",
      "\u001b[1;31mView Jupyter <a href='command:jupyter.viewOutput'>log</a> for further details."
     ]
    }
   ],
   "source": [
    "from typing import Union\n",
    "from fastapi import Query,FastAPI\n",
    "\n",
    "\n",
    "app = FastAPI()\n",
    "\n",
    "@app.get(\"/items/\")\n",
    "def read_item(name: str, price: float):\n",
    "    return {\"name\": name, \"price\": price}\n",
    "\n",
    "@app.get(\"/items\")\n",
    "def get_item_name(name:Union[str,None]=None):\n",
    "    if name:\n",
    "        return {\"message\": f\"Searching for {name}\"}\n",
    "    return {\"message\": \"No query provided\"}\n",
    "\n",
    "\n",
    "@app.get(\"/items/{product_id}\")\n",
    "def getitem(product_id:int, name: Union[str,None]=None):\n",
    "    if name:\n",
    "        return f\"product id: {product_id} , name : {name}\"\n",
    "    return  \"k co name\"\n",
    "\n",
    "#Kết hợp Path + Query + Validation\n",
    "@app.get(\"/product/{product_id}\")\n",
    "def read_product(product_id:int,name:str = Query(default=\"\",min_length=1, max_length=9), limit: int = Query(default=10, ge=1, le=100)):\n",
    "    return {\"keyword\": name, \"limit\": limit}"
   ]
  }
 ],
 "metadata": {
  "kernelspec": {
   "display_name": "Python 3",
   "language": "python",
   "name": "python3"
  },
  "language_info": {
   "codemirror_mode": {
    "name": "ipython",
    "version": 3
   },
   "file_extension": ".py",
   "mimetype": "text/x-python",
   "name": "python",
   "nbconvert_exporter": "python",
   "pygments_lexer": "ipython3",
   "version": "3.11.8"
  }
 },
 "nbformat": 4,
 "nbformat_minor": 5
}
