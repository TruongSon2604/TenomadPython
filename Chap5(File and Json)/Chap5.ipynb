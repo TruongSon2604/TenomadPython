{
 "cells": [
  {
   "cell_type": "markdown",
   "metadata": {},
   "source": [
    "\n",
    "**File Handling trong Python đề cập đến việc đọc và ghi dữ liệu vào file, cho phép bạn thao tác với các file trên hệ thống máy tính. Các thao tác này bao gồm mở file, đọc nội dung, ghi dữ liệu và đóng file.**\n",
    "\n",
    "* 'r': Đọc file (Read). Đây là chế độ mặc định, file phải tồn tại.\n",
    "\n",
    "* 'w': Ghi vào file (Write). Nếu file không tồn tại, Python sẽ tạo mới. Nếu file đã tồn tại, nó sẽ bị ghi đè.\n",
    "\n",
    "* 'a': Thêm vào file (Append). Nếu file không tồn tại, Python sẽ tạo mới. Nếu file đã tồn tại, dữ liệu sẽ được thêm vào cuối file.\n",
    "\n",
    "* 'b': Mở file ở chế độ nhị phân (Binary). Thường sử dụng khi làm việc với hình ảnh hoặc âm thanh.\n",
    "\n",
    "* 'x': Mở file ở chế độ tạo mới (Exclusive Creation). Nếu file đã tồn tại, sẽ báo lỗi.  \n",
    "\n",
    "Các Lỗi Thường Gặp:\n",
    "* FileNotFoundError: Khi file không tồn tại và bạn cố gắng mở nó.\n",
    "* PermissionError: Khi bạn không có quyền truy cập vào file (chẳng hạn như khi file được bảo vệ bằng mật khẩu hoặc nằm trong thư mục không có quyền ghi)."
   ]
  },
  {
   "cell_type": "code",
   "execution_count": 13,
   "metadata": {},
   "outputs": [
    {
     "name": "stdout",
     "output_type": "stream",
     "text": [
      "Trương ngọc sơn\n",
      "Bach khoa da nang\n",
      "Cong nghe thong tin\n"
     ]
    }
   ],
   "source": [
    "file = open('abc.doc', 'r', encoding='utf-8')\n",
    "content = file.read()\n",
    "print(content)\n",
    "file.close()\n"
   ]
  },
  {
   "cell_type": "code",
   "execution_count": 8,
   "metadata": {},
   "outputs": [
    {
     "name": "stdout",
     "output_type": "stream",
     "text": [
      "Trương ngọc sơn\n",
      "\n",
      "Bach khoa da nang\n",
      "\n",
      "Cong nghe thong tin\n"
     ]
    }
   ],
   "source": [
    "with open('abc.doc', 'r', encoding='utf-8') as file:\n",
    "    for line in file:\n",
    "        print(line)"
   ]
  },
  {
   "cell_type": "code",
   "execution_count": 12,
   "metadata": {},
   "outputs": [
    {
     "name": "stdout",
     "output_type": "stream",
     "text": [
      "Hello, bro.\n",
      "\n",
      "This is a new line in the file.\n"
     ]
    }
   ],
   "source": [
    "\n",
    "with open('abc2.doc', 'w') as file:\n",
    "    file.write(\"Hello, bro.\\n\")\n",
    "    file.write(\"This is a new line in the file.\")\n",
    "with open('abc2.doc', 'r', encoding='utf-8') as file:\n",
    "    for line in file:\n",
    "        print(line)\n"
   ]
  },
  {
   "cell_type": "code",
   "execution_count": 1,
   "metadata": {},
   "outputs": [],
   "source": [
    "import csv\n",
    "\n",
    "def process_students(input_file, output_file):\n",
    "    with open(input_file, 'r', newline='') as infile:\n",
    "        reader = csv.reader(infile)\n",
    "        header = next(reader)\n",
    "        students = []\n",
    "        \n",
    "        for row in reader:\n",
    "            name = row[0]\n",
    "            age = int(row[1])\n",
    "            grades = list(map(float, row[2:]))\n",
    "            average = sum(grades) / len(grades)\n",
    "            if average >= 90:\n",
    "                grade = 'A'\n",
    "            elif average >= 75:\n",
    "                grade = 'B'\n",
    "            elif average >= 50:\n",
    "                grade = 'C'\n",
    "            else:\n",
    "                grade = 'D'\n",
    "            students.append([name,age, average, grade])\n",
    "    \n",
    "    with open(output_file, 'w', newline='') as outfile:\n",
    "        writer = csv.writer(outfile)\n",
    "        writer.writerow(['Name','Age', 'Average Grade', 'Grade'])\n",
    "        writer.writerows(students)\n",
    "\n",
    "process_students('students.csv', 'processed_students.csv')"
   ]
  },
  {
   "cell_type": "markdown",
   "metadata": {},
   "source": [
    "* Trong Python, JSON (JavaScript Object Notation) là một định dạng dữ liệu phổ biến để lưu trữ và trao đổi dữ liệu giữa máy chủ và máy khách. Python cung cấp một module tích hợp sẵn là json để làm việc với JSON.\n",
    "* JSON là một định dạng dữ liệu văn bản, được cấu trúc theo cặp key-value tương tự như dict trong Python."
   ]
  },
  {
   "cell_type": "markdown",
   "metadata": {},
   "source": [
    "**Các hàm chính**\n",
    "* json.dumps() – Chuyển Python object thành chuỗi JSON\n",
    "* json.loads() – Chuyển chuỗi JSON thành Python object\n",
    "* json.dump() – Ghi JSON vào file\n",
    "* json.load() – Đọc JSON từ file\n",
    "\n",
    "\n"
   ]
  },
  {
   "cell_type": "code",
   "execution_count": 9,
   "metadata": {},
   "outputs": [
    {
     "name": "stdout",
     "output_type": "stream",
     "text": [
      "{\"name\": \"son\", \"age\": 21}\n",
      "son\n",
      "{'name': 'son', 'age': 21}\n"
     ]
    }
   ],
   "source": [
    "import json\n",
    "data = {\"name\": \"son\", \"age\": 21}\n",
    "json_string = json.dumps(data)\n",
    "print(json_string) \n",
    "\n",
    "json_data = '{\"name\": \"son\", \"age\": 21}'\n",
    "data2 = json.loads(json_data)\n",
    "print(data2[\"name\"])\n",
    "\n",
    "with open(\"data.json\", \"w\") as file:\n",
    "    json.dump(data, file)\n",
    "\n",
    "with open(\"data.json\", \"r\") as file:\n",
    "    dataFile = json.load(file)\n",
    "print(dataFile)\n"
   ]
  },
  {
   "cell_type": "code",
   "execution_count": 8,
   "metadata": {},
   "outputs": [
    {
     "name": "stdout",
     "output_type": "stream",
     "text": [
      "Leanne Graham - Sincere@april.biz\n",
      "Ervin Howell - Shanna@melissa.tv\n",
      "Clementine Bauch - Nathan@yesenia.net\n",
      "Patricia Lebsack - Julianne.OConner@kory.org\n",
      "Chelsey Dietrich - Lucio_Hettinger@annie.ca\n",
      "Mrs. Dennis Schulist - Karley_Dach@jasper.info\n",
      "Kurtis Weissnat - Telly.Hoeger@billy.biz\n",
      "Nicholas Runolfsdottir V - Sherwood@rosamond.me\n",
      "Glenna Reichert - Chaim_McDermott@dana.io\n",
      "Clementina DuBuque - Rey.Padberg@karina.biz\n"
     ]
    }
   ],
   "source": [
    "import requests\n",
    "\n",
    "def get_users():\n",
    "    url = \"https://jsonplaceholder.typicode.com/users\"\n",
    "    response = requests.get(url)\n",
    "\n",
    "    if response.status_code == 200:\n",
    "        users = response.json()\n",
    "        for user in users:\n",
    "            print(f\"{user['name']} - {user['email']}\")\n",
    "    else:\n",
    "        print(\"Failed to fetch users.\")\n",
    "\n",
    "get_users()\n"
   ]
  }
 ],
 "metadata": {
  "kernelspec": {
   "display_name": "Python 3",
   "language": "python",
   "name": "python3"
  },
  "language_info": {
   "codemirror_mode": {
    "name": "ipython",
    "version": 3
   },
   "file_extension": ".py",
   "mimetype": "text/x-python",
   "name": "python",
   "nbconvert_exporter": "python",
   "pygments_lexer": "ipython3",
   "version": "3.11.8"
  }
 },
 "nbformat": 4,
 "nbformat_minor": 2
}
