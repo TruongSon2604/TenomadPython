{
 "cells": [
  {
   "cell_type": "markdown",
   "metadata": {},
   "source": [
    "**Biến và kiểu dữ liệu** \n",
    "* int\tSố nguyên\ta = 10\n",
    "* float\tSố thực\tb = 3.14\n",
    "* str\tChuỗi ký tự\tc = \"Hello\"\n",
    "* bool\tBoolean (True hoặc False)\td = True\n",
    "* list\tDanh sách\te = [1, 2, 3]\n",
    "* tuple\tBộ giá trị không thay đổi\tf = (4, 5)\n",
    "* dict\tTừ điển (key-value)\tg = {\"ten\": \"An\"}\n",
    "* set\tTập hợp (không trùng lặp)\th = {1, 2, 3}"
   ]
  },
  {
   "cell_type": "code",
   "execution_count": 1,
   "metadata": {},
   "outputs": [
    {
     "name": "stdout",
     "output_type": "stream",
     "text": [
      "Điểm trung bình: 8.166666666666666\n"
     ]
    }
   ],
   "source": [
    "# 1.Tinh trung binh cong\n",
    "diem = [7.5, 8.0, 9.0]\n",
    "tong = sum(diem)\n",
    "trung_binh = tong / len(diem)\n",
    "print(\"Điểm trung bình:\", trung_binh)"
   ]
  },
  {
   "cell_type": "code",
   "execution_count": 5,
   "metadata": {},
   "outputs": [
    {
     "name": "stdout",
     "output_type": "stream",
     "text": [
      "{'t': 1, 'r': 1, 'u': 1, 'o': 2, 'n': 2, 'g': 1, 's': 1}\n"
     ]
    }
   ],
   "source": [
    "# 2.Đếm số lần xuất hiện của từng ký tự trong chuỗi\n",
    "text = input(\"Enter a string: \")\n",
    "char_count = {}\n",
    "for char in text:\n",
    "    if char in char_count:\n",
    "        char_count[char] += 1\n",
    "    else:\n",
    "        char_count[char] = 1\n",
    "print(char_count)\n"
   ]
  },
  {
   "cell_type": "markdown",
   "metadata": {},
   "source": [
    "* Toán tử số học: +, -, /, %, *,//,**\n",
    "* Toán tử so sánh: ==, !=, >, <, >=, <=\n",
    "* Toán tử logic: and, or, not\n",
    "* Toán tử gán: = , +=, -=, *=, /=,%=,**=\n",
    "* Toán tử dịch bit trong Python: \n",
    "    * Dịch trái\t<<\tDịch các bit sang trái (x2 mỗi lần)\t5 << 1 → 10\n",
    "    * Dịch phải\t>>\tDịch các bit sang phải (chia 2 mỗi lần)\t10 >> 1 → 5"
   ]
  },
  {
   "cell_type": "code",
   "execution_count": null,
   "metadata": {},
   "outputs": [
    {
     "name": "stdout",
     "output_type": "stream",
     "text": [
      "du dieu kien nhan hoc bong\n"
     ]
    }
   ],
   "source": [
    "# 3.if else\n",
    "diem = float(input(\"nhap diem trung binh: \"))\n",
    "tuoi = int(input(\"nhap tuoi: \"))\n",
    "if diem >= 9 and tuoi >= 18:\n",
    "    print(\"du dieu kien nhan hoc bong\")\n",
    "else:\n",
    "    print(\"khong du dieu kien\")"
   ]
  },
  {
   "cell_type": "code",
   "execution_count": 10,
   "metadata": {},
   "outputs": [
    {
     "name": "stdout",
     "output_type": "stream",
     "text": [
      "Dạng nhị phân của số: 1001\n",
      "Dịch trái 1 bit: 18 | Nhị phân: 10010\n",
      "Dịch phải 1 bit: 4 | Nhị phân: 100\n"
     ]
    }
   ],
   "source": [
    "# 4.Hiển thị nhị phân và dịch bit\n",
    "num = int(input(\"Nhập một số nguyên dương: \"))\n",
    "print(\"Dạng nhị phân của số:\", bin(num)[2:])\n",
    "\n",
    "left = num << 1\n",
    "right = num >> 1\n",
    "\n",
    "print(\"Dịch trái 1 bit:\", left, \"| Nhị phân:\", bin(left)[2:])\n",
    "print(\"Dịch phải 1 bit:\", right, \"| Nhị phân:\", bin(right)[2:])\n"
   ]
  },
  {
   "cell_type": "markdown",
   "metadata": {},
   "source": [
    "**Định nghĩa hàm**\n",
    "* Hàm là một khối mã được đặt tên, thực hiện một nhiệm vụ cụ thể.\n",
    "* Hàm giúp bạn tái sử dụng mã và làm cho chương trình của bạn dễ đọc hơn."
   ]
  },
  {
   "cell_type": "code",
   "execution_count": null,
   "metadata": {},
   "outputs": [
    {
     "name": "stdout",
     "output_type": "stream",
     "text": [
      "Giai thừa của 5 là: 120\n"
     ]
    }
   ],
   "source": [
    "#5. Viết một hàm tính giai thừa của một số nguyên không âm.\n",
    "def factorial(n):\n",
    "    if n < 0:\n",
    "        return \"Giai thừa không xác định cho số âm\"\n",
    "    elif n == 0 or n == 1:\n",
    "        return 1\n",
    "    else:\n",
    "        result = 1\n",
    "        for i in range(2, n + 1):\n",
    "            result *= i\n",
    "        return result\n",
    "print(\"Giai thừa của 5 là:\", factorial(5))"
   ]
  },
  {
   "cell_type": "code",
   "execution_count": null,
   "metadata": {},
   "outputs": [
    {
     "name": "stdout",
     "output_type": "stream",
     "text": [
      "Giai thừa của 5 là: 120\n"
     ]
    }
   ],
   "source": [
    "#6. Viết một hàm tính giai thừa của một số nguyên không âm bằng đệ quy.\n",
    "def factorial_recursive(n):\n",
    "    if n < 0:\n",
    "        return \"Giai thừa không xác định cho số âm\"\n",
    "    elif n == 0 or n == 1:\n",
    "        return 1\n",
    "    else:\n",
    "        return n * factorial_recursive(n - 1)\n",
    "print(\"Giai thừa của 5 là:\", factorial_recursive(5))"
   ]
  },
  {
   "cell_type": "code",
   "execution_count": null,
   "metadata": {},
   "outputs": [
    {
     "name": "stdout",
     "output_type": "stream",
     "text": [
      "(28, 22)\n"
     ]
    }
   ],
   "source": [
    "#7.tinh chu vi, dt hinh chu nhat\n",
    "def CS(length, width):\n",
    "    area = length * width\n",
    "    perimeter = 2 * (length + width)\n",
    "    return area, perimeter\n",
    "print(CS(4, 7))"
   ]
  },
  {
   "cell_type": "code",
   "execution_count": null,
   "metadata": {},
   "outputs": [
    {
     "name": "stdout",
     "output_type": "stream",
     "text": [
      "{3}\n"
     ]
    }
   ],
   "source": [
    "#8.Tim số chung trong 2 mảng\n",
    "def common_elements(list1, list2):\n",
    "    common = []\n",
    "    for item in list1:\n",
    "        if item in list2:\n",
    "            common.append(item)\n",
    "    return common\n",
    "\n",
    "print(set(common_elements([1, 3, 3], [2, 3, 4])))"
   ]
  },
  {
   "cell_type": "markdown",
   "metadata": {},
   "source": [
    "**Try-except**\n",
    "* try-except được sử dụng để xử lý lỗi trong Python.\n",
    "* Khối try chứa mã có thể gây ra lỗi.\n",
    "* Khối except chứa mã được thực thi khi xảy ra lỗi."
   ]
  },
  {
   "cell_type": "code",
   "execution_count": null,
   "metadata": {},
   "outputs": [
    {
     "name": "stdout",
     "output_type": "stream",
     "text": [
      "Không thể chia cho 0\n"
     ]
    }
   ],
   "source": [
    "try:\n",
    "    num = int(input(\"Nhập một số: \"))\n",
    "    result = 956 / num \n",
    "except ValueError:\n",
    "    print(\"Vui lòng nhập một số hợp lệ\")\n",
    "except ZeroDivisionError:\n",
    "    print(\"Không thể chia cho 0\")"
   ]
  },
  {
   "cell_type": "code",
   "execution_count": 27,
   "metadata": {},
   "outputs": [
    {
     "name": "stdout",
     "output_type": "stream",
     "text": [
      "Kết quả là: 63.733333333333334\n",
      "Vào finally.\n"
     ]
    }
   ],
   "source": [
    "try:\n",
    "    num = int(input(\"Nhập một số: \"))\n",
    "    result = 956 / num\n",
    "except ValueError:\n",
    "    print(\"Vui lòng nhập một số hợp lệ!\")\n",
    "except ZeroDivisionError:\n",
    "    print(\"Không thể chia cho 0!\")\n",
    "else:\n",
    "    print(\"Kết quả là:\", result)\n",
    "finally:\n",
    "    print(\"Vào finally.\")"
   ]
  },
  {
   "cell_type": "code",
   "execution_count": 31,
   "metadata": {},
   "outputs": [
    {
     "name": "stdout",
     "output_type": "stream",
     "text": [
      "Lỗi xảy ra: invalid literal for int() with base 10: '1dddd'\n"
     ]
    }
   ],
   "source": [
    "try:\n",
    "    num = int(input(\"Nhập một số: \"))\n",
    "    result = 956 / num\n",
    "except Exception as e:\n",
    "    print(f\"Lỗi xảy ra: {e}\")"
   ]
  },
  {
   "cell_type": "markdown",
   "metadata": {},
   "source": []
  },
  {
   "cell_type": "markdown",
   "metadata": {},
   "source": [
    "**DEBUG :Debugging là quá trình xác định và sửa chữa lỗi trong mã nguồn. Python cung cấp một số công cụ hỗ trợ để debug, bao gồm việc sử dụng print(), pdb (Python Debugger)**  \n",
    "  \n",
    "Các lệnh của pdb:\n",
    "* n: Tiến đến dòng tiếp theo trong cùng một hàm.\n",
    "\n",
    "* s: Bước vào hàm nếu có.\n",
    "\n",
    "* c: Tiếp tục thực thi cho đến khi gặp breakpoint tiếp theo.\n",
    "\n",
    "* p: In giá trị của một biến. Ví dụ: p radius.\n",
    "\n",
    "* q: Thoát khỏi debugger."
   ]
  },
  {
   "cell_type": "code",
   "execution_count": 41,
   "metadata": {},
   "outputs": [
    {
     "name": "stdout",
     "output_type": "stream",
     "text": [
      "> \u001b[1;32mc:\\users\\son truong\\appdata\\local\\temp\\ipykernel_38816\\1057938568.py\u001b[0m(5)\u001b[0;36mcalculate_area\u001b[1;34m()\u001b[0m\n",
      "\n",
      "> \u001b[1;32mc:\\users\\son truong\\appdata\\local\\temp\\ipykernel_38816\\1057938568.py\u001b[0m(6)\u001b[0;36mcalculate_area\u001b[1;34m()\u001b[0m\n",
      "\n",
      "--Return--\n",
      "78.5\n",
      "> \u001b[1;32mc:\\users\\son truong\\appdata\\local\\temp\\ipykernel_38816\\1057938568.py\u001b[0m(6)\u001b[0;36mcalculate_area\u001b[1;34m()\u001b[0m\n",
      "\n",
      "--Call--\n",
      "> \u001b[1;32mc:\\users\\son truong\\appdata\\roaming\\python\\python311\\site-packages\\ipython\\core\\displayhook.py\u001b[0m(258)\u001b[0;36m__call__\u001b[1;34m()\u001b[0m\n",
      "\u001b[1;32m    256 \u001b[1;33m        \u001b[0msys\u001b[0m\u001b[1;33m.\u001b[0m\u001b[0mstdout\u001b[0m\u001b[1;33m.\u001b[0m\u001b[0mflush\u001b[0m\u001b[1;33m(\u001b[0m\u001b[1;33m)\u001b[0m\u001b[1;33m\u001b[0m\u001b[1;33m\u001b[0m\u001b[0m\n",
      "\u001b[0m\u001b[1;32m    257 \u001b[1;33m\u001b[1;33m\u001b[0m\u001b[0m\n",
      "\u001b[0m\u001b[1;32m--> 258 \u001b[1;33m    \u001b[1;32mdef\u001b[0m \u001b[0m__call__\u001b[0m\u001b[1;33m(\u001b[0m\u001b[0mself\u001b[0m\u001b[1;33m,\u001b[0m \u001b[0mresult\u001b[0m\u001b[1;33m=\u001b[0m\u001b[1;32mNone\u001b[0m\u001b[1;33m)\u001b[0m\u001b[1;33m:\u001b[0m\u001b[1;33m\u001b[0m\u001b[1;33m\u001b[0m\u001b[0m\n",
      "\u001b[0m\u001b[1;32m    259 \u001b[1;33m        \"\"\"Printing with history cache management.\n",
      "\u001b[0m\u001b[1;32m    260 \u001b[1;33m\u001b[1;33m\u001b[0m\u001b[0m\n",
      "\u001b[0m\n"
     ]
    }
   ],
   "source": [
    "import pdb\n",
    "\n",
    "def calculate_area(radius):\n",
    "    pdb.set_trace() \n",
    "    area = 3.14 * radius ** 2\n",
    "    return area\n",
    "calculate_area(5)\n"
   ]
  }
 ],
 "metadata": {
  "kernelspec": {
   "display_name": "Python 3",
   "language": "python",
   "name": "python3"
  },
  "language_info": {
   "codemirror_mode": {
    "name": "ipython",
    "version": 3
   },
   "file_extension": ".py",
   "mimetype": "text/x-python",
   "name": "python",
   "nbconvert_exporter": "python",
   "pygments_lexer": "ipython3",
   "version": "3.11.8"
  }
 },
 "nbformat": 4,
 "nbformat_minor": 2
}
