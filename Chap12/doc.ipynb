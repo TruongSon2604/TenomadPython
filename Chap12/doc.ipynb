{
 "cells": [
  {
   "cell_type": "markdown",
   "id": "adbefb71",
   "metadata": {},
   "source": [
    "**Tìm hiểu về Machine Learning và Scikit-learn**\n",
    "* Machine Learning (ML) là một nhánh của trí tuệ nhân tạo (AI) giúp các hệ thống học hỏi từ dữ liệu mà không cần phải được lập trình một cách rõ ràng. Trong Machine Learning, mô hình học từ dữ liệu để đưa ra các dự đoán hoặc quyết định dựa trên những gì nó đã học.\n",
    "\n",
    "* Supervised Learning (Học có giám sát): Đây là một kỹ thuật mà mô hình học từ dữ liệu đã được gắn nhãn, tức là mỗi ví dụ trong tập huấn luyện đều có một đầu ra đã biết. Mô hình học để dự đoán giá trị đầu ra từ các đặc trưng đầu vào.\n",
    "\n",
    "* Scikit-learn là một thư viện Python mạnh mẽ và phổ biến cho Machine Learning, đặc biệt là trong các tác vụ như phân loại, hồi quy, phân cụm, giảm chiều dữ liệu, và các thuật toán học máy khác. Thư viện này cung cấp nhiều công cụ để xử lý dữ liệu, tạo mô hình và đánh giá hiệu suất.\n",
    "\n",
    "**Một số bước cơ bản trong Scikit-learn:** \n",
    "\n",
    "* Chuẩn bị dữ liệu: Tập huấn luyện và kiểm tra.\n",
    "\n",
    "* Lựa chọn mô hình: Ví dụ như hồi quy tuyến tính, cây quyết định, hoặc Random Forest.\n",
    "\n",
    "* Huấn luyện mô hình: Dùng tập huấn luyện để huấn luyện mô hình.\n",
    "\n",
    "* Đánh giá mô hình: Kiểm tra độ chính xác của mô hình trên tập kiểm tra.\n",
    "\n",
    "**Các bước xây dựng mô hình dự đoán điểm học sinh:**\n",
    "* Thu thập dữ liệu: Bạn cần dữ liệu về điểm số học sinh và các yếu tố ảnh hưởng đến điểm số, chẳng hạn như số giờ học, bài kiểm tra, bài tập về nhà, v.v.\n",
    "\n",
    "* Tiền xử lý dữ liệu: Dữ liệu cần được chuẩn hóa và xử lý nếu có giá trị thiếu hoặc bất thường.\n",
    "\n",
    "* Chia dữ liệu thành tập huấn luyện và kiểm tra: Để đánh giá hiệu suất mô hình.\n",
    "\n",
    "* Xây dựng mô hình hồi quy tuyến tính.\n",
    "\n",
    "* Huấn luyện và dự đoán."
   ]
  }
 ],
 "metadata": {
  "language_info": {
   "name": "python"
  }
 },
 "nbformat": 4,
 "nbformat_minor": 5
}
